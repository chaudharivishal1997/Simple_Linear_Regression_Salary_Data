{
 "cells": [
  {
   "cell_type": "markdown",
   "id": "5543465f",
   "metadata": {},
   "source": [
    "## Build a simple linear regression model by performing EDA and do necessary transformations and select the best model using R or Python.\n",
    "## Salary_hike -> Build a prediction model for Salary_hike\n",
    "### (Use Dataset 'Salary_Data')"
   ]
  },
  {
   "cell_type": "markdown",
   "id": "604ff03e",
   "metadata": {},
   "source": [
    "### Importing Libraries & Dataset"
   ]
  },
  {
   "cell_type": "code",
   "execution_count": 40,
   "id": "84f3cbae",
   "metadata": {},
   "outputs": [],
   "source": [
    "import pandas as pd\n",
    "import numpy as np\n",
    "import seaborn as sns\n",
    "import statsmodels.formula.api as sm\n",
    "import statsmodels.api\n",
    "from statsmodels.graphics.regressionplots import influence_plot"
   ]
  },
  {
   "cell_type": "code",
   "execution_count": 29,
   "id": "d82e9f58",
   "metadata": {},
   "outputs": [
    {
     "data": {
      "text/html": [
       "<div>\n",
       "<style scoped>\n",
       "    .dataframe tbody tr th:only-of-type {\n",
       "        vertical-align: middle;\n",
       "    }\n",
       "\n",
       "    .dataframe tbody tr th {\n",
       "        vertical-align: top;\n",
       "    }\n",
       "\n",
       "    .dataframe thead th {\n",
       "        text-align: right;\n",
       "    }\n",
       "</style>\n",
       "<table border=\"1\" class=\"dataframe\">\n",
       "  <thead>\n",
       "    <tr style=\"text-align: right;\">\n",
       "      <th></th>\n",
       "      <th>YearsExperience</th>\n",
       "      <th>Salary</th>\n",
       "    </tr>\n",
       "  </thead>\n",
       "  <tbody>\n",
       "    <tr>\n",
       "      <th>0</th>\n",
       "      <td>1.1</td>\n",
       "      <td>39343.0</td>\n",
       "    </tr>\n",
       "    <tr>\n",
       "      <th>1</th>\n",
       "      <td>1.3</td>\n",
       "      <td>46205.0</td>\n",
       "    </tr>\n",
       "    <tr>\n",
       "      <th>2</th>\n",
       "      <td>1.5</td>\n",
       "      <td>37731.0</td>\n",
       "    </tr>\n",
       "    <tr>\n",
       "      <th>3</th>\n",
       "      <td>2.0</td>\n",
       "      <td>43525.0</td>\n",
       "    </tr>\n",
       "    <tr>\n",
       "      <th>4</th>\n",
       "      <td>2.2</td>\n",
       "      <td>39891.0</td>\n",
       "    </tr>\n",
       "  </tbody>\n",
       "</table>\n",
       "</div>"
      ],
      "text/plain": [
       "   YearsExperience   Salary\n",
       "0              1.1  39343.0\n",
       "1              1.3  46205.0\n",
       "2              1.5  37731.0\n",
       "3              2.0  43525.0\n",
       "4              2.2  39891.0"
      ]
     },
     "execution_count": 29,
     "metadata": {},
     "output_type": "execute_result"
    }
   ],
   "source": [
    "salary_data=pd.read_csv(\"C:\\Vishal\\ExcelR\\Data Science\\Assignments\\Salary_Data.csv\")\n",
    "salary_data.head() "
   ]
  },
  {
   "cell_type": "markdown",
   "id": "39de0948",
   "metadata": {},
   "source": [
    "### Performing Exploratory Data Analysis"
   ]
  },
  {
   "cell_type": "code",
   "execution_count": 30,
   "id": "dda5dedd",
   "metadata": {
    "scrolled": true
   },
   "outputs": [
    {
     "name": "stdout",
     "output_type": "stream",
     "text": [
      "<class 'pandas.core.frame.DataFrame'>\n",
      "RangeIndex: 30 entries, 0 to 29\n",
      "Data columns (total 2 columns):\n",
      " #   Column           Non-Null Count  Dtype  \n",
      "---  ------           --------------  -----  \n",
      " 0   YearsExperience  30 non-null     float64\n",
      " 1   Salary           30 non-null     float64\n",
      "dtypes: float64(2)\n",
      "memory usage: 608.0 bytes\n"
     ]
    }
   ],
   "source": [
    "#Checking for Null Values\n",
    "salary_data.info()\n",
    "#No Null values detected & correct data types present"
   ]
  },
  {
   "cell_type": "code",
   "execution_count": 31,
   "id": "fe76c0e0",
   "metadata": {},
   "outputs": [
    {
     "data": {
      "image/png": "[encoded data removed]",
      "text/plain": [
       "<Figure size 432x288 with 1 Axes>"
      ]
     },
     "metadata": {
      "needs_background": "light"
     },
     "output_type": "display_data"
    }
   ],
   "source": [
    "#Checking for outliers\n",
    "sns.boxplot(x=salary_data.Salary, color='red');"
   ]
  },
  {
   "cell_type": "code",
   "execution_count": 32,
   "id": "f6eccd41",
   "metadata": {
    "scrolled": false
   },
   "outputs": [
    {
     "data": {
      "text/plain": [
       "<AxesSubplot:xlabel='YearsExperience'>"
      ]
     },
     "execution_count": 32,
     "metadata": {},
     "output_type": "execute_result"
    },
    {
     "data": {
      "image/png": "[encoded data removed]",
      "text/plain": [
       "<Figure size 432x288 with 1 Axes>"
      ]
     },
     "metadata": {
      "needs_background": "light"
     },
     "output_type": "display_data"
    }
   ],
   "source": [
    "sns.boxplot(x=salary_data.YearsExperience,color='pink')\n",
    "#No outliers detected"
   ]
  },
  {
   "cell_type": "markdown",
   "id": "b7d79858",
   "metadata": {},
   "source": [
    "### Correlation Analysis"
   ]
  },
  {
   "cell_type": "code",
   "execution_count": 33,
   "id": "ef6055b4",
   "metadata": {
    "scrolled": true
   },
   "outputs": [
    {
     "data": {
      "text/plain": [
       "<AxesSubplot:>"
      ]
     },
     "execution_count": 33,
     "metadata": {},
     "output_type": "execute_result"
    },
    {
     "data": {
      "image/png": "[encoded data removed]",
      "text/plain": [
       "<Figure size 432x288 with 2 Axes>"
      ]
     },
     "metadata": {
      "needs_background": "light"
     },
     "output_type": "display_data"
    }
   ],
   "source": [
    "#Finding correlation using Heatmap\n",
    "sns.heatmap(salary_data[['YearsExperience','Salary']].corr(),annot=True)\n",
    "#We're having a good positive correlation of 0.98 between the variables"
   ]
  },
  {
   "cell_type": "code",
   "execution_count": 34,
   "id": "8e3593c1",
   "metadata": {},
   "outputs": [
    {
     "data": {
      "text/plain": [
       "<AxesSubplot:xlabel='YearsExperience', ylabel='Salary'>"
      ]
     },
     "execution_count": 34,
     "metadata": {},
     "output_type": "execute_result"
    },
    {
     "data": {
      "image/png": "[encoded data removed]",
      "text/plain": [
       "<Figure size 432x288 with 1 Axes>"
      ]
     },
     "metadata": {
      "needs_background": "light"
     },
     "output_type": "display_data"
    }
   ],
   "source": [
    "sns.regplot(x=salary_data['YearsExperience'],y=salary_data['Salary'])"
   ]
  },
  {
   "cell_type": "markdown",
   "id": "969199c2",
   "metadata": {},
   "source": [
    "### Building the model"
   ]
  },
  {
   "cell_type": "code",
   "execution_count": 35,
   "id": "a09ec5b6",
   "metadata": {},
   "outputs": [],
   "source": [
    "#Identifying Feature x and Target y and Initializing the Model\n",
    "Regression_Model=sm.ols('Salary~YearsExperience',data=salary_data).fit()"
   ]
  },
  {
   "cell_type": "markdown",
   "id": "ed399184",
   "metadata": {},
   "source": [
    "### Model Testing"
   ]
  },
  {
   "cell_type": "code",
   "execution_count": 36,
   "id": "746e65d9",
   "metadata": {},
   "outputs": [
    {
     "name": "stdout",
     "output_type": "stream",
     "text": [
      "Intercept          25792.200199\n",
      "YearsExperience     9449.962321\n",
      "dtype: float64\n"
     ]
    }
   ],
   "source": [
    "#Calculating coefficient parameters\n",
    "print(Regression_Model.params)"
   ]
  },
  {
   "cell_type": "code",
   "execution_count": 37,
   "id": "2a16354e",
   "metadata": {
    "scrolled": true
   },
   "outputs": [
    {
     "name": "stdout",
     "output_type": "stream",
     "text": [
      "Intercept          11.346940\n",
      "YearsExperience    24.950094\n",
      "dtype: float64 \n",
      " Intercept          5.511950e-12\n",
      "YearsExperience    1.143068e-20\n",
      "dtype: float64\n"
     ]
    }
   ],
   "source": [
    "#Calculating t-values & p-values\n",
    "print(Regression_Model.tvalues,'\\n',Regression_Model.pvalues)"
   ]
  },
  {
   "cell_type": "code",
   "execution_count": 38,
   "id": "2aec5314",
   "metadata": {},
   "outputs": [
    {
     "name": "stdout",
     "output_type": "stream",
     "text": [
      "r-squared value:  0.9569566641435086 r-squared adjusted value:  0.9554194021486339\n"
     ]
    }
   ],
   "source": [
    "print('r-squared value: ',Regression_Model.rsquared,'r-squared adjusted value: ',Regression_Model.rsquared_adj)"
   ]
  },
  {
   "cell_type": "markdown",
   "id": "656ced34",
   "metadata": {},
   "source": [
    "### Model Tranformation - Rebuilding to improve accuracy"
   ]
  },
  {
   "cell_type": "markdown",
   "id": "3663bb78",
   "metadata": {},
   "source": [
    "Transforming variables for accuracy"
   ]
  },
  {
   "cell_type": "code",
   "execution_count": 45,
   "id": "01d6cce2",
   "metadata": {},
   "outputs": [],
   "source": [
    "Regression_Model_1=sm.ols('Salary~np.log(YearsExperience)',data=salary_data).fit()"
   ]
  },
  {
   "cell_type": "code",
   "execution_count": 46,
   "id": "36352746",
   "metadata": {},
   "outputs": [
    {
     "name": "stdout",
     "output_type": "stream",
     "text": [
      "Intercept                  14927.97177\n",
      "np.log(YearsExperience)    40581.98796\n",
      "dtype: float64\n"
     ]
    }
   ],
   "source": [
    "#Calculating coefficient parameters\n",
    "print(Regression_Model_1.params)"
   ]
  },
  {
   "cell_type": "code",
   "execution_count": 47,
   "id": "bc887f34",
   "metadata": {},
   "outputs": [
    {
     "name": "stdout",
     "output_type": "stream",
     "text": [
      "Intercept                   2.895135\n",
      "np.log(YearsExperience)    12.791989\n",
      "dtype: float64 \n",
      " Intercept                  7.268813e-03\n",
      "np.log(YearsExperience)    3.250155e-13\n",
      "dtype: float64\n"
     ]
    }
   ],
   "source": [
    "#Calculating t-values & p-values\n",
    "print(Regression_Model_1.tvalues,'\\n',Regression_Model_1.pvalues)"
   ]
  },
  {
   "cell_type": "code",
   "execution_count": 48,
   "id": "4577add6",
   "metadata": {},
   "outputs": [
    {
     "name": "stdout",
     "output_type": "stream",
     "text": [
      "r-squared value:  0.8538888828756969 r-squared adjusted value:  0.8486706286926861\n"
     ]
    }
   ],
   "source": [
    "print('r-squared value: ',Regression_Model_1.rsquared,'r-squared adjusted value: ',Regression_Model_1.rsquared_adj)"
   ]
  },
  {
   "cell_type": "markdown",
   "id": "11e7293e",
   "metadata": {},
   "source": [
    "Exponential transformation"
   ]
  },
  {
   "cell_type": "code",
   "execution_count": 49,
   "id": "cef9e984",
   "metadata": {},
   "outputs": [],
   "source": [
    "Regression_Model_2=sm.ols('np.log(Salary)~YearsExperience',data=salary_data).fit()"
   ]
  },
  {
   "cell_type": "code",
   "execution_count": 50,
   "id": "4310d835",
   "metadata": {},
   "outputs": [
    {
     "name": "stdout",
     "output_type": "stream",
     "text": [
      "Intercept          10.507402\n",
      "YearsExperience     0.125453\n",
      "dtype: float64\n"
     ]
    }
   ],
   "source": [
    "#Calculating coefficient parameters\n",
    "print(Regression_Model_2.params)"
   ]
  },
  {
   "cell_type": "code",
   "execution_count": 51,
   "id": "ef76da41",
   "metadata": {},
   "outputs": [
    {
     "name": "stdout",
     "output_type": "stream",
     "text": [
      "Intercept          273.327166\n",
      "YearsExperience     19.584833\n",
      "dtype: float64 \n",
      " Intercept          1.604634e-49\n",
      "YearsExperience    7.027439e-18\n",
      "dtype: float64\n"
     ]
    }
   ],
   "source": [
    "#Calculating t-values & p-values\n",
    "print(Regression_Model_2.tvalues,'\\n',Regression_Model_2.pvalues)"
   ]
  },
  {
   "cell_type": "code",
   "execution_count": 52,
   "id": "1cf5bc86",
   "metadata": {},
   "outputs": [
    {
     "name": "stdout",
     "output_type": "stream",
     "text": [
      "r-squared value:  0.9319671194084195 r-squared adjusted value:  0.9295373736730059\n"
     ]
    }
   ],
   "source": [
    "print('r-squared value: ',Regression_Model_2.rsquared,'r-squared adjusted value: ',Regression_Model_2.rsquared_adj)"
   ]
  },
  {
   "cell_type": "markdown",
   "id": "14a4ac58",
   "metadata": {},
   "source": [
    "Quadratic Transformation"
   ]
  },
  {
   "cell_type": "code",
   "execution_count": 53,
   "id": "bf1c9427",
   "metadata": {},
   "outputs": [],
   "source": [
    "Regression_Model_3=sm.ols('np.sqrt(Salary)~YearsExperience',data=salary_data).fit()"
   ]
  },
  {
   "cell_type": "code",
   "execution_count": 54,
   "id": "fe2b3796",
   "metadata": {},
   "outputs": [
    {
     "name": "stdout",
     "output_type": "stream",
     "text": [
      "Intercept          180.700221\n",
      "YearsExperience     17.056532\n",
      "dtype: float64\n"
     ]
    }
   ],
   "source": [
    "#Calculating coefficient parameters\n",
    "print(Regression_Model_3.params)"
   ]
  },
  {
   "cell_type": "code",
   "execution_count": 55,
   "id": "427a7035",
   "metadata": {},
   "outputs": [
    {
     "name": "stdout",
     "output_type": "stream",
     "text": [
      "Intercept          40.646251\n",
      "YearsExperience    23.025247\n",
      "dtype: float64 \n",
      " Intercept          1.604634e-49\n",
      "YearsExperience    7.027439e-18\n",
      "dtype: float64\n"
     ]
    }
   ],
   "source": [
    "#Calculating t-values & p-values\n",
    "print(Regression_Model_3.tvalues,'\\n',Regression_Model_2.pvalues)"
   ]
  },
  {
   "cell_type": "code",
   "execution_count": 56,
   "id": "b3620292",
   "metadata": {},
   "outputs": [
    {
     "name": "stdout",
     "output_type": "stream",
     "text": [
      "r-squared value:  0.9498353533865289 r-squared adjusted value:  0.9480437588646192\n"
     ]
    }
   ],
   "source": [
    "print('r-squared value: ',Regression_Model_3.rsquared,'r-squared adjusted value: ',Regression_Model_3.rsquared_adj)"
   ]
  },
  {
   "cell_type": "markdown",
   "id": "da1c6ae6",
   "metadata": {},
   "source": [
    "Reciprocal Transformations"
   ]
  },
  {
   "cell_type": "code",
   "execution_count": 71,
   "id": "5db3e886",
   "metadata": {},
   "outputs": [],
   "source": [
    "Regression_Model_4=sm.ols('np.reciprocal(Salary)~YearsExperience',data=salary_data).fit()"
   ]
  },
  {
   "cell_type": "code",
   "execution_count": 72,
   "id": "34ca6621",
   "metadata": {},
   "outputs": [
    {
     "name": "stdout",
     "output_type": "stream",
     "text": [
      "Intercept          0.000025\n",
      "YearsExperience   -0.000002\n",
      "dtype: float64\n"
     ]
    }
   ],
   "source": [
    "#Calculating coefficient parameters\n",
    "print(Regression_Model_4.params)"
   ]
  },
  {
   "cell_type": "code",
   "execution_count": 73,
   "id": "0ac9fa51",
   "metadata": {},
   "outputs": [
    {
     "name": "stdout",
     "output_type": "stream",
     "text": [
      "Intercept          29.913113\n",
      "YearsExperience   -13.162319\n",
      "dtype: float64 \n",
      " Intercept          8.500940e-23\n",
      "YearsExperience    1.631985e-13\n",
      "dtype: float64\n"
     ]
    }
   ],
   "source": [
    "#Calculating t-values & p-values\n",
    "print(Regression_Model_4.tvalues,'\\n',Regression_Model_4.pvalues)"
   ]
  },
  {
   "cell_type": "code",
   "execution_count": 74,
   "id": "d63320fd",
   "metadata": {},
   "outputs": [
    {
     "name": "stdout",
     "output_type": "stream",
     "text": [
      "r-squared value:  0.8608672473082564 r-squared adjusted value:  0.8558982204264084\n"
     ]
    }
   ],
   "source": [
    "print('r-squared value: ',Regression_Model_4.rsquared,'r-squared adjusted value: ',Regression_Model_4.rsquared_adj)"
   ]
  },
  {
   "cell_type": "code",
   "execution_count": 75,
   "id": "b948f252",
   "metadata": {
    "scrolled": true
   },
   "outputs": [
    {
     "data": {
      "text/html": [
       "<div>\n",
       "<style scoped>\n",
       "    .dataframe tbody tr th:only-of-type {\n",
       "        vertical-align: middle;\n",
       "    }\n",
       "\n",
       "    .dataframe tbody tr th {\n",
       "        vertical-align: top;\n",
       "    }\n",
       "\n",
       "    .dataframe thead th {\n",
       "        text-align: right;\n",
       "    }\n",
       "</style>\n",
       "<table border=\"1\" class=\"dataframe\">\n",
       "  <thead>\n",
       "    <tr style=\"text-align: right;\">\n",
       "      <th></th>\n",
       "      <th>Models</th>\n",
       "      <th>Adjusted rsquare</th>\n",
       "    </tr>\n",
       "  </thead>\n",
       "  <tbody>\n",
       "    <tr>\n",
       "      <th>0</th>\n",
       "      <td>Regression_Model</td>\n",
       "      <td>0.955419</td>\n",
       "    </tr>\n",
       "    <tr>\n",
       "      <th>1</th>\n",
       "      <td>Regression_Model_1</td>\n",
       "      <td>0.848671</td>\n",
       "    </tr>\n",
       "    <tr>\n",
       "      <th>2</th>\n",
       "      <td>Regression_Model_2</td>\n",
       "      <td>0.929537</td>\n",
       "    </tr>\n",
       "    <tr>\n",
       "      <th>3</th>\n",
       "      <td>Regression_Model_3</td>\n",
       "      <td>0.948044</td>\n",
       "    </tr>\n",
       "    <tr>\n",
       "      <th>4</th>\n",
       "      <td>Regression_Model_4</td>\n",
       "      <td>0.855898</td>\n",
       "    </tr>\n",
       "  </tbody>\n",
       "</table>\n",
       "</div>"
      ],
      "text/plain": [
       "               Models  Adjusted rsquare\n",
       "0    Regression_Model          0.955419\n",
       "1  Regression_Model_1          0.848671\n",
       "2  Regression_Model_2          0.929537\n",
       "3  Regression_Model_3          0.948044\n",
       "4  Regression_Model_4          0.855898"
      ]
     },
     "execution_count": 75,
     "metadata": {},
     "output_type": "execute_result"
    }
   ],
   "source": [
    "# Comparing Model Accuracy\n",
    "d = {'Models': ['Regression_Model', 'Regression_Model_1', 'Regression_Model_2', 'Regression_Model_3', 'Regression_Model_4'], 'Adjusted rsquare': [Regression_Model.rsquared_adj, Regression_Model_1.rsquared_adj, Regression_Model_2.rsquared_adj, Regression_Model_3.rsquared_adj,Regression_Model_4.rsquared_adj]}\n",
    "df = pd.DataFrame(d)\n",
    "df"
   ]
  },
  {
   "cell_type": "markdown",
   "id": "666c2d31",
   "metadata": {},
   "source": [
    "As the Regression_Model\tis having highest accuracy of 95.41% we'll use that model for prediction"
   ]
  },
  {
   "cell_type": "code",
   "execution_count": 76,
   "id": "5a901724",
   "metadata": {
    "scrolled": true
   },
   "outputs": [
    {
     "data": {
      "image/png": "[encoded data removed]",
      "text/plain": [
       "<Figure size 432x288 with 1 Axes>"
      ]
     },
     "metadata": {
      "needs_background": "light"
     },
     "output_type": "display_data"
    }
   ],
   "source": [
    "statsmodels.api.qqplot(Regression_Model.resid,line='q')\n",
    "plt.title(\"Normal Q-Q plot of residuals\")\n",
    "plt.show()"
   ]
  },
  {
   "cell_type": "code",
   "execution_count": 77,
   "id": "751b5934",
   "metadata": {},
   "outputs": [
    {
     "data": {
      "image/png": "[encoded data removed]",
      "text/plain": [
       "<Figure size 864x576 with 4 Axes>"
      ]
     },
     "metadata": {
      "needs_background": "light"
     },
     "output_type": "display_data"
    }
   ],
   "source": [
    "#defining figure size\n",
    "fig = plt.figure(figsize=(12,8))\n",
    "#producing regression plots\n",
    "fig = statsmodels.api.graphics.plot_regress_exog(Regression_Model, 'YearsExperience', fig=fig)"
   ]
  },
  {
   "cell_type": "markdown",
   "id": "0e3c29cf",
   "metadata": {},
   "source": [
    "### Testing the model"
   ]
  },
  {
   "cell_type": "code",
   "execution_count": 78,
   "id": "08daf687",
   "metadata": {},
   "outputs": [
    {
     "data": {
      "text/html": [
       "<div>\n",
       "<style scoped>\n",
       "    .dataframe tbody tr th:only-of-type {\n",
       "        vertical-align: middle;\n",
       "    }\n",
       "\n",
       "    .dataframe tbody tr th {\n",
       "        vertical-align: top;\n",
       "    }\n",
       "\n",
       "    .dataframe thead th {\n",
       "        text-align: right;\n",
       "    }\n",
       "</style>\n",
       "<table border=\"1\" class=\"dataframe\">\n",
       "  <thead>\n",
       "    <tr style=\"text-align: right;\">\n",
       "      <th></th>\n",
       "      <th>Salary</th>\n",
       "      <th>Predicted Salary</th>\n",
       "    </tr>\n",
       "  </thead>\n",
       "  <tbody>\n",
       "    <tr>\n",
       "      <th>0</th>\n",
       "      <td>39343.0</td>\n",
       "      <td>36187.158752</td>\n",
       "    </tr>\n",
       "    <tr>\n",
       "      <th>1</th>\n",
       "      <td>46205.0</td>\n",
       "      <td>38077.151217</td>\n",
       "    </tr>\n",
       "    <tr>\n",
       "      <th>2</th>\n",
       "      <td>37731.0</td>\n",
       "      <td>39967.143681</td>\n",
       "    </tr>\n",
       "    <tr>\n",
       "      <th>3</th>\n",
       "      <td>43525.0</td>\n",
       "      <td>44692.124842</td>\n",
       "    </tr>\n",
       "    <tr>\n",
       "      <th>4</th>\n",
       "      <td>39891.0</td>\n",
       "      <td>46582.117306</td>\n",
       "    </tr>\n",
       "    <tr>\n",
       "      <th>5</th>\n",
       "      <td>56642.0</td>\n",
       "      <td>53197.090931</td>\n",
       "    </tr>\n",
       "    <tr>\n",
       "      <th>6</th>\n",
       "      <td>60150.0</td>\n",
       "      <td>54142.087163</td>\n",
       "    </tr>\n",
       "    <tr>\n",
       "      <th>7</th>\n",
       "      <td>54445.0</td>\n",
       "      <td>56032.079627</td>\n",
       "    </tr>\n",
       "    <tr>\n",
       "      <th>8</th>\n",
       "      <td>64445.0</td>\n",
       "      <td>56032.079627</td>\n",
       "    </tr>\n",
       "    <tr>\n",
       "      <th>9</th>\n",
       "      <td>57189.0</td>\n",
       "      <td>60757.060788</td>\n",
       "    </tr>\n",
       "    <tr>\n",
       "      <th>10</th>\n",
       "      <td>63218.0</td>\n",
       "      <td>62647.053252</td>\n",
       "    </tr>\n",
       "    <tr>\n",
       "      <th>11</th>\n",
       "      <td>55794.0</td>\n",
       "      <td>63592.049484</td>\n",
       "    </tr>\n",
       "    <tr>\n",
       "      <th>12</th>\n",
       "      <td>56957.0</td>\n",
       "      <td>63592.049484</td>\n",
       "    </tr>\n",
       "    <tr>\n",
       "      <th>13</th>\n",
       "      <td>57081.0</td>\n",
       "      <td>64537.045717</td>\n",
       "    </tr>\n",
       "    <tr>\n",
       "      <th>14</th>\n",
       "      <td>61111.0</td>\n",
       "      <td>68317.030645</td>\n",
       "    </tr>\n",
       "    <tr>\n",
       "      <th>15</th>\n",
       "      <td>67938.0</td>\n",
       "      <td>72097.015574</td>\n",
       "    </tr>\n",
       "    <tr>\n",
       "      <th>16</th>\n",
       "      <td>66029.0</td>\n",
       "      <td>73987.008038</td>\n",
       "    </tr>\n",
       "    <tr>\n",
       "      <th>17</th>\n",
       "      <td>83088.0</td>\n",
       "      <td>75877.000502</td>\n",
       "    </tr>\n",
       "    <tr>\n",
       "      <th>18</th>\n",
       "      <td>81363.0</td>\n",
       "      <td>81546.977895</td>\n",
       "    </tr>\n",
       "    <tr>\n",
       "      <th>19</th>\n",
       "      <td>93940.0</td>\n",
       "      <td>82491.974127</td>\n",
       "    </tr>\n",
       "    <tr>\n",
       "      <th>20</th>\n",
       "      <td>91738.0</td>\n",
       "      <td>90051.943985</td>\n",
       "    </tr>\n",
       "    <tr>\n",
       "      <th>21</th>\n",
       "      <td>98273.0</td>\n",
       "      <td>92886.932681</td>\n",
       "    </tr>\n",
       "    <tr>\n",
       "      <th>22</th>\n",
       "      <td>101302.0</td>\n",
       "      <td>100446.902538</td>\n",
       "    </tr>\n",
       "    <tr>\n",
       "      <th>23</th>\n",
       "      <td>113812.0</td>\n",
       "      <td>103281.891235</td>\n",
       "    </tr>\n",
       "    <tr>\n",
       "      <th>24</th>\n",
       "      <td>109431.0</td>\n",
       "      <td>108006.872395</td>\n",
       "    </tr>\n",
       "    <tr>\n",
       "      <th>25</th>\n",
       "      <td>105582.0</td>\n",
       "      <td>110841.861092</td>\n",
       "    </tr>\n",
       "    <tr>\n",
       "      <th>26</th>\n",
       "      <td>116969.0</td>\n",
       "      <td>115566.842252</td>\n",
       "    </tr>\n",
       "    <tr>\n",
       "      <th>27</th>\n",
       "      <td>112635.0</td>\n",
       "      <td>116511.838485</td>\n",
       "    </tr>\n",
       "    <tr>\n",
       "      <th>28</th>\n",
       "      <td>122391.0</td>\n",
       "      <td>123126.812110</td>\n",
       "    </tr>\n",
       "    <tr>\n",
       "      <th>29</th>\n",
       "      <td>121872.0</td>\n",
       "      <td>125016.804574</td>\n",
       "    </tr>\n",
       "  </tbody>\n",
       "</table>\n",
       "</div>"
      ],
      "text/plain": [
       "      Salary  Predicted Salary\n",
       "0    39343.0      36187.158752\n",
       "1    46205.0      38077.151217\n",
       "2    37731.0      39967.143681\n",
       "3    43525.0      44692.124842\n",
       "4    39891.0      46582.117306\n",
       "5    56642.0      53197.090931\n",
       "6    60150.0      54142.087163\n",
       "7    54445.0      56032.079627\n",
       "8    64445.0      56032.079627\n",
       "9    57189.0      60757.060788\n",
       "10   63218.0      62647.053252\n",
       "11   55794.0      63592.049484\n",
       "12   56957.0      63592.049484\n",
       "13   57081.0      64537.045717\n",
       "14   61111.0      68317.030645\n",
       "15   67938.0      72097.015574\n",
       "16   66029.0      73987.008038\n",
       "17   83088.0      75877.000502\n",
       "18   81363.0      81546.977895\n",
       "19   93940.0      82491.974127\n",
       "20   91738.0      90051.943985\n",
       "21   98273.0      92886.932681\n",
       "22  101302.0     100446.902538\n",
       "23  113812.0     103281.891235\n",
       "24  109431.0     108006.872395\n",
       "25  105582.0     110841.861092\n",
       "26  116969.0     115566.842252\n",
       "27  112635.0     116511.838485\n",
       "28  122391.0     123126.812110\n",
       "29  121872.0     125016.804574"
      ]
     },
     "execution_count": 78,
     "metadata": {},
     "output_type": "execute_result"
    }
   ],
   "source": [
    "#Making prediction using given data\n",
    "salary_pred = Regression_Model.predict()\n",
    "#Comparing Actual and Predicted salary\n",
    "salary_act = pd.DataFrame(salary_data.Salary)\n",
    "salary_pred = pd.DataFrame(Regression_Model.predict(), columns = ['Predicted Salary'])\n",
    "pd.concat([salary_act, salary_pred], axis = 1)"
   ]
  },
  {
   "cell_type": "code",
   "execution_count": 79,
   "id": "9f8d3b20",
   "metadata": {},
   "outputs": [
    {
     "data": {
      "text/plain": [
       "Text(0, 0.5, 'Salary')"
      ]
     },
     "execution_count": 79,
     "metadata": {},
     "output_type": "execute_result"
    },
    {
     "data": {
      "image/png": "[encoded data removed]",
      "text/plain": [
       "<Figure size 432x288 with 1 Axes>"
      ]
     },
     "metadata": {
      "needs_background": "light"
     },
     "output_type": "display_data"
    }
   ],
   "source": [
    "#Plotting graph of actual salary vs predicted salary\n",
    "%matplotlib inline\n",
    "import matplotlib.pyplot as plt\n",
    "plt.plot(salary_act)\n",
    "plt.plot(salary_pred)\n",
    "plt.legend(['Actual Salary','Predicted Salary'])\n",
    "plt.title(\"Actual vs Predicted Salary\")\n",
    "plt.ylabel(\"Salary\")"
   ]
  },
  {
   "cell_type": "markdown",
   "id": "b335cf34",
   "metadata": {},
   "source": [
    "### Predicting Salary using Model!"
   ]
  },
  {
   "cell_type": "code",
   "execution_count": 80,
   "id": "d3e15a9a",
   "metadata": {},
   "outputs": [
    {
     "name": "stdout",
     "output_type": "stream",
     "text": [
      "Enter experience in years : 100\n",
      "The expected salary is:  0    970788.432344\n",
      "dtype: float64\n"
     ]
    }
   ],
   "source": [
    "## r-squared value is greater than 0.95 hence model can be used for prediction!\n",
    "x = (int(input(\"Enter experience in years : \")))\n",
    "np.asarray(x)\n",
    "x = pd.DataFrame([x], columns = ['YearsExperience'])\n",
    "print('The expected salary is: ', Regression_Model.predict(x))"
   ]
  },
  {
   "cell_type": "code",
   "execution_count": null,
   "id": "bf9c87ec",
   "metadata": {},
   "outputs": [],
   "source": []
  }
 ],
 "metadata": {
  "kernelspec": {
   "display_name": "Python 3",
   "language": "python",
   "name": "python3"
  },
  "language_info": {
   "codemirror_mode": {
    "name": "ipython",
    "version": 3
   },
   "file_extension": ".py",
   "mimetype": "text/x-python",
   "name": "python",
   "nbconvert_exporter": "python",
   "pygments_lexer": "ipython3",
   "version": "3.8.8"
  }
 },
 "nbformat": 4,
 "nbformat_minor": 5
}
